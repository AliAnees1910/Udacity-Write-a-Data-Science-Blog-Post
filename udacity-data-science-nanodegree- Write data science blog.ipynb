{
 "cells": [
  {
   "cell_type": "markdown",
   "id": "ac597f24",
   "metadata": {
    "papermill": {
     "duration": 0.009007,
     "end_time": "2023-01-18T18:57:30.420498",
     "exception": false,
     "start_time": "2023-01-18T18:57:30.411491",
     "status": "completed"
    },
    "tags": []
   },
   "source": [
    "# Business Understanding\n"
   ]
  },
  {
   "cell_type": "markdown",
   "id": "d4b2ff0e",
   "metadata": {
    "papermill": {
     "duration": 0.007258,
     "end_time": "2023-01-18T18:57:30.435433",
     "exception": false,
     "start_time": "2023-01-18T18:57:30.428175",
     "status": "completed"
    },
    "tags": []
   },
   "source": [
    "Since 2008, guests and hosts have used **Airbnb**  to travel in a more unique, personalized way. As part of the Airbnb Inside initiative, this dataset describes **the listing activity of homestays in Seattle, WA.**\n",
    "\n",
    "\n",
    "The following Airbnb activity is included in this Seattle dataset:\n",
    "\n",
    "* **Listings**, including full descriptions and average review score\n",
    "* **Reviews**, including unique id for each reviewer and detailed comments\n",
    "* **Calendar**, including listing id and the price and availability for that day\n",
    "\n",
    "\n",
    "In This Project, we need to answer 4 questions: \n",
    "1. what is the busiest month in terms of availbility of listings ? \n",
    "2. when is the highest aver price of listings per night ? \n",
    "3. Where are the most expensive listings ? at which neighbourhoods in Seattle\n",
    "4. Who are the top host names and what are the types of listings they offer ?\n",
    "\n",
    "In Order to answer these questions , we will use \n",
    "* Calendar.csv \n",
    "* listings.csv\n"
   ]
  },
  {
   "cell_type": "markdown",
   "id": "0a808fe4",
   "metadata": {
    "papermill": {
     "duration": 0.007126,
     "end_time": "2023-01-18T18:57:30.449951",
     "exception": false,
     "start_time": "2023-01-18T18:57:30.442825",
     "status": "completed"
    },
    "tags": []
   },
   "source": [
    "# Data Understanding"
   ]
  },
  {
   "cell_type": "code",
   "execution_count": 1,
   "id": "ec316831",
   "metadata": {
    "execution": {
     "iopub.execute_input": "2023-01-18T18:57:30.467036Z",
     "iopub.status.busy": "2023-01-18T18:57:30.466297Z",
     "iopub.status.idle": "2023-01-18T18:57:31.831187Z",
     "shell.execute_reply": "2023-01-18T18:57:31.829974Z"
    },
    "papermill": {
     "duration": 1.378013,
     "end_time": "2023-01-18T18:57:31.835250",
     "exception": false,
     "start_time": "2023-01-18T18:57:30.457237",
     "status": "completed"
    },
    "tags": []
   },
   "outputs": [
    {
     "name": "stdout",
     "output_type": "stream",
     "text": [
      "/kaggle/input/seattle/calendar.csv\n",
      "/kaggle/input/seattle/listings.csv\n",
      "/kaggle/input/seattle/reviews.csv\n"
     ]
    }
   ],
   "source": [
    "# This Python 3 environment comes with many helpful analytics libraries installed\n",
    "# It is defined by the kaggle/python Docker image: https://github.com/kaggle/docker-python\n",
    "# For example, here's several helpful packages to load\n",
    "\n",
    "import numpy as np # linear algebra\n",
    "import pandas as pd # data processing, CSV file I/O (e.g. pd.read_csv)\n",
    "import matplotlib.pyplot as plt\n",
    "from sklearn.linear_model import LinearRegression\n",
    "from sklearn.model_selection import train_test_split\n",
    "from sklearn.metrics import r2_score, mean_squared_error\n",
    "import seaborn as sns\n",
    "import math\n",
    "pd.set_option('max_columns', None)\n",
    "\n",
    "# Input data files are available in the read-only \"../input/\" directory\n",
    "# For example, running this (by clicking run or pressing Shift+Enter) will list all files under the input directory\n",
    "\n",
    "import os\n",
    "for dirname, _, filenames in os.walk('/kaggle/input'):\n",
    "    for filename in filenames:\n",
    "        print(os.path.join(dirname, filename))\n",
    "\n",
    "# You can write up to 20GB to the current directory (/kaggle/working/) that gets preserved as output when you create a version using \"Save & Run All\" \n",
    "# You can also write temporary files to /kaggle/temp/, but they won't be saved outside of the current session"
   ]
  },
  {
   "cell_type": "markdown",
   "id": "3e3e2146",
   "metadata": {
    "papermill": {
     "duration": 0.007428,
     "end_time": "2023-01-18T18:57:31.851381",
     "exception": false,
     "start_time": "2023-01-18T18:57:31.843953",
     "status": "completed"
    },
    "tags": []
   },
   "source": [
    "Importing datasets"
   ]
  },
  {
   "cell_type": "code",
   "execution_count": 2,
   "id": "3b938381",
   "metadata": {
    "execution": {
     "iopub.execute_input": "2023-01-18T18:57:31.870722Z",
     "iopub.status.busy": "2023-01-18T18:57:31.870319Z",
     "iopub.status.idle": "2023-01-18T18:57:34.745020Z",
     "shell.execute_reply": "2023-01-18T18:57:34.743485Z"
    },
    "papermill": {
     "duration": 2.887547,
     "end_time": "2023-01-18T18:57:34.748245",
     "exception": false,
     "start_time": "2023-01-18T18:57:31.860698",
     "status": "completed"
    },
    "tags": []
   },
   "outputs": [],
   "source": [
    "df_calendar=pd.read_csv('/kaggle/input/seattle/calendar.csv')\n",
    "df_listing=pd.read_csv('/kaggle/input/seattle/listings.csv')\n",
    "df_reviews=pd.read_csv('/kaggle/input/seattle/reviews.csv')"
   ]
  },
  {
   "cell_type": "code",
   "execution_count": 3,
   "id": "bef4e949",
   "metadata": {
    "execution": {
     "iopub.execute_input": "2023-01-18T18:57:34.767130Z",
     "iopub.status.busy": "2023-01-18T18:57:34.765819Z",
     "iopub.status.idle": "2023-01-18T18:57:34.788712Z",
     "shell.execute_reply": "2023-01-18T18:57:34.787562Z"
    },
    "papermill": {
     "duration": 0.035221,
     "end_time": "2023-01-18T18:57:34.791677",
     "exception": false,
     "start_time": "2023-01-18T18:57:34.756456",
     "status": "completed"
    },
    "tags": []
   },
   "outputs": [
    {
     "data": {
      "text/html": [
       "<div>\n",
       "<style scoped>\n",
       "    .dataframe tbody tr th:only-of-type {\n",
       "        vertical-align: middle;\n",
       "    }\n",
       "\n",
       "    .dataframe tbody tr th {\n",
       "        vertical-align: top;\n",
       "    }\n",
       "\n",
       "    .dataframe thead th {\n",
       "        text-align: right;\n",
       "    }\n",
       "</style>\n",
       "<table border=\"1\" class=\"dataframe\">\n",
       "  <thead>\n",
       "    <tr style=\"text-align: right;\">\n",
       "      <th></th>\n",
       "      <th>listing_id</th>\n",
       "      <th>date</th>\n",
       "      <th>available</th>\n",
       "      <th>price</th>\n",
       "    </tr>\n",
       "  </thead>\n",
       "  <tbody>\n",
       "    <tr>\n",
       "      <th>0</th>\n",
       "      <td>241032</td>\n",
       "      <td>2016-01-04</td>\n",
       "      <td>t</td>\n",
       "      <td>$85.00</td>\n",
       "    </tr>\n",
       "    <tr>\n",
       "      <th>1</th>\n",
       "      <td>241032</td>\n",
       "      <td>2016-01-05</td>\n",
       "      <td>t</td>\n",
       "      <td>$85.00</td>\n",
       "    </tr>\n",
       "    <tr>\n",
       "      <th>2</th>\n",
       "      <td>241032</td>\n",
       "      <td>2016-01-06</td>\n",
       "      <td>f</td>\n",
       "      <td>NaN</td>\n",
       "    </tr>\n",
       "    <tr>\n",
       "      <th>3</th>\n",
       "      <td>241032</td>\n",
       "      <td>2016-01-07</td>\n",
       "      <td>f</td>\n",
       "      <td>NaN</td>\n",
       "    </tr>\n",
       "    <tr>\n",
       "      <th>4</th>\n",
       "      <td>241032</td>\n",
       "      <td>2016-01-08</td>\n",
       "      <td>f</td>\n",
       "      <td>NaN</td>\n",
       "    </tr>\n",
       "  </tbody>\n",
       "</table>\n",
       "</div>"
      ],
      "text/plain": [
       "   listing_id        date available   price\n",
       "0      241032  2016-01-04         t  $85.00\n",
       "1      241032  2016-01-05         t  $85.00\n",
       "2      241032  2016-01-06         f     NaN\n",
       "3      241032  2016-01-07         f     NaN\n",
       "4      241032  2016-01-08         f     NaN"
      ]
     },
     "execution_count": 3,
     "metadata": {},
     "output_type": "execute_result"
    }
   ],
   "source": [
    "#understanding df_calendar \n",
    "df_calendar.head()\n"
   ]
  },
  {
   "cell_type": "code",
   "execution_count": 4,
   "id": "d6a4c43e",
   "metadata": {
    "execution": {
     "iopub.execute_input": "2023-01-18T18:57:34.810670Z",
     "iopub.status.busy": "2023-01-18T18:57:34.809817Z",
     "iopub.status.idle": "2023-01-18T18:57:34.816135Z",
     "shell.execute_reply": "2023-01-18T18:57:34.815070Z"
    },
    "papermill": {
     "duration": 0.019799,
     "end_time": "2023-01-18T18:57:34.819905",
     "exception": false,
     "start_time": "2023-01-18T18:57:34.800106",
     "status": "completed"
    },
    "tags": []
   },
   "outputs": [
    {
     "name": "stdout",
     "output_type": "stream",
     "text": [
      "Number of rows is 1393570 and number of columns is 4\n"
     ]
    }
   ],
   "source": [
    "print(\"Number of rows is {} and number of columns is {}\".format(df_calendar.shape[0],df_calendar.shape[1]))\n"
   ]
  },
  {
   "cell_type": "code",
   "execution_count": 5,
   "id": "26045a33",
   "metadata": {
    "execution": {
     "iopub.execute_input": "2023-01-18T18:57:34.838925Z",
     "iopub.status.busy": "2023-01-18T18:57:34.837962Z",
     "iopub.status.idle": "2023-01-18T18:57:35.040011Z",
     "shell.execute_reply": "2023-01-18T18:57:35.038241Z"
    },
    "papermill": {
     "duration": 0.215451,
     "end_time": "2023-01-18T18:57:35.043644",
     "exception": false,
     "start_time": "2023-01-18T18:57:34.828193",
     "status": "completed"
    },
    "tags": []
   },
   "outputs": [
    {
     "name": "stdout",
     "output_type": "stream",
     "text": [
      "<class 'pandas.core.frame.DataFrame'>\n",
      "RangeIndex: 1393570 entries, 0 to 1393569\n",
      "Data columns (total 4 columns):\n",
      " #   Column      Non-Null Count    Dtype \n",
      "---  ------      --------------    ----- \n",
      " 0   listing_id  1393570 non-null  int64 \n",
      " 1   date        1393570 non-null  object\n",
      " 2   available   1393570 non-null  object\n",
      " 3   price       934542 non-null   object\n",
      "dtypes: int64(1), object(3)\n",
      "memory usage: 42.5+ MB\n"
     ]
    }
   ],
   "source": [
    "df_calendar.info()"
   ]
  },
  {
   "cell_type": "markdown",
   "id": "3bc2389b",
   "metadata": {
    "papermill": {
     "duration": 0.007877,
     "end_time": "2023-01-18T18:57:35.060210",
     "exception": false,
     "start_time": "2023-01-18T18:57:35.052333",
     "status": "completed"
    },
    "tags": []
   },
   "source": [
    "**Price data type needs to be changed from string to float\n",
    "and also remove $ from it**"
   ]
  },
  {
   "cell_type": "code",
   "execution_count": 6,
   "id": "7bb097b8",
   "metadata": {
    "execution": {
     "iopub.execute_input": "2023-01-18T18:57:35.078935Z",
     "iopub.status.busy": "2023-01-18T18:57:35.078501Z",
     "iopub.status.idle": "2023-01-18T18:57:35.091240Z",
     "shell.execute_reply": "2023-01-18T18:57:35.089861Z"
    },
    "papermill": {
     "duration": 0.025246,
     "end_time": "2023-01-18T18:57:35.093748",
     "exception": false,
     "start_time": "2023-01-18T18:57:35.068502",
     "status": "completed"
    },
    "tags": []
   },
   "outputs": [
    {
     "data": {
      "text/html": [
       "<div>\n",
       "<style scoped>\n",
       "    .dataframe tbody tr th:only-of-type {\n",
       "        vertical-align: middle;\n",
       "    }\n",
       "\n",
       "    .dataframe tbody tr th {\n",
       "        vertical-align: top;\n",
       "    }\n",
       "\n",
       "    .dataframe thead th {\n",
       "        text-align: right;\n",
       "    }\n",
       "</style>\n",
       "<table border=\"1\" class=\"dataframe\">\n",
       "  <thead>\n",
       "    <tr style=\"text-align: right;\">\n",
       "      <th></th>\n",
       "      <th>listing_id</th>\n",
       "      <th>date</th>\n",
       "      <th>available</th>\n",
       "      <th>price</th>\n",
       "    </tr>\n",
       "  </thead>\n",
       "  <tbody>\n",
       "    <tr>\n",
       "      <th>0</th>\n",
       "      <td>241032</td>\n",
       "      <td>2016-01-04</td>\n",
       "      <td>t</td>\n",
       "      <td>$85.00</td>\n",
       "    </tr>\n",
       "    <tr>\n",
       "      <th>1</th>\n",
       "      <td>241032</td>\n",
       "      <td>2016-01-05</td>\n",
       "      <td>t</td>\n",
       "      <td>$85.00</td>\n",
       "    </tr>\n",
       "    <tr>\n",
       "      <th>2</th>\n",
       "      <td>241032</td>\n",
       "      <td>2016-01-06</td>\n",
       "      <td>f</td>\n",
       "      <td>NaN</td>\n",
       "    </tr>\n",
       "    <tr>\n",
       "      <th>3</th>\n",
       "      <td>241032</td>\n",
       "      <td>2016-01-07</td>\n",
       "      <td>f</td>\n",
       "      <td>NaN</td>\n",
       "    </tr>\n",
       "    <tr>\n",
       "      <th>4</th>\n",
       "      <td>241032</td>\n",
       "      <td>2016-01-08</td>\n",
       "      <td>f</td>\n",
       "      <td>NaN</td>\n",
       "    </tr>\n",
       "  </tbody>\n",
       "</table>\n",
       "</div>"
      ],
      "text/plain": [
       "   listing_id        date available   price\n",
       "0      241032  2016-01-04         t  $85.00\n",
       "1      241032  2016-01-05         t  $85.00\n",
       "2      241032  2016-01-06         f     NaN\n",
       "3      241032  2016-01-07         f     NaN\n",
       "4      241032  2016-01-08         f     NaN"
      ]
     },
     "execution_count": 6,
     "metadata": {},
     "output_type": "execute_result"
    }
   ],
   "source": [
    "#Understanding listings\n",
    "df_calendar.head()\n"
   ]
  },
  {
   "cell_type": "code",
   "execution_count": 7,
   "id": "64275467",
   "metadata": {
    "execution": {
     "iopub.execute_input": "2023-01-18T18:57:35.112932Z",
     "iopub.status.busy": "2023-01-18T18:57:35.112495Z",
     "iopub.status.idle": "2023-01-18T18:57:35.118783Z",
     "shell.execute_reply": "2023-01-18T18:57:35.117432Z"
    },
    "papermill": {
     "duration": 0.019482,
     "end_time": "2023-01-18T18:57:35.121554",
     "exception": false,
     "start_time": "2023-01-18T18:57:35.102072",
     "status": "completed"
    },
    "tags": []
   },
   "outputs": [
    {
     "name": "stdout",
     "output_type": "stream",
     "text": [
      "Number of rows is 3818 and number of columns is 92\n"
     ]
    }
   ],
   "source": [
    "print(\"Number of rows is {} and number of columns is {}\".format(df_listing.shape[0],df_listing.shape[1]))\n"
   ]
  },
  {
   "cell_type": "code",
   "execution_count": 8,
   "id": "22f9a398",
   "metadata": {
    "execution": {
     "iopub.execute_input": "2023-01-18T18:57:35.141094Z",
     "iopub.status.busy": "2023-01-18T18:57:35.140644Z",
     "iopub.status.idle": "2023-01-18T18:57:35.175114Z",
     "shell.execute_reply": "2023-01-18T18:57:35.173926Z"
    },
    "papermill": {
     "duration": 0.047857,
     "end_time": "2023-01-18T18:57:35.178119",
     "exception": false,
     "start_time": "2023-01-18T18:57:35.130262",
     "status": "completed"
    },
    "tags": []
   },
   "outputs": [
    {
     "name": "stdout",
     "output_type": "stream",
     "text": [
      "<class 'pandas.core.frame.DataFrame'>\n",
      "RangeIndex: 3818 entries, 0 to 3817\n",
      "Data columns (total 92 columns):\n",
      " #   Column                            Non-Null Count  Dtype  \n",
      "---  ------                            --------------  -----  \n",
      " 0   id                                3818 non-null   int64  \n",
      " 1   listing_url                       3818 non-null   object \n",
      " 2   scrape_id                         3818 non-null   int64  \n",
      " 3   last_scraped                      3818 non-null   object \n",
      " 4   name                              3818 non-null   object \n",
      " 5   summary                           3641 non-null   object \n",
      " 6   space                             3249 non-null   object \n",
      " 7   description                       3818 non-null   object \n",
      " 8   experiences_offered               3818 non-null   object \n",
      " 9   neighborhood_overview             2786 non-null   object \n",
      " 10  notes                             2212 non-null   object \n",
      " 11  transit                           2884 non-null   object \n",
      " 12  thumbnail_url                     3498 non-null   object \n",
      " 13  medium_url                        3498 non-null   object \n",
      " 14  picture_url                       3818 non-null   object \n",
      " 15  xl_picture_url                    3498 non-null   object \n",
      " 16  host_id                           3818 non-null   int64  \n",
      " 17  host_url                          3818 non-null   object \n",
      " 18  host_name                         3816 non-null   object \n",
      " 19  host_since                        3816 non-null   object \n",
      " 20  host_location                     3810 non-null   object \n",
      " 21  host_about                        2959 non-null   object \n",
      " 22  host_response_time                3295 non-null   object \n",
      " 23  host_response_rate                3295 non-null   object \n",
      " 24  host_acceptance_rate              3045 non-null   object \n",
      " 25  host_is_superhost                 3816 non-null   object \n",
      " 26  host_thumbnail_url                3816 non-null   object \n",
      " 27  host_picture_url                  3816 non-null   object \n",
      " 28  host_neighbourhood                3518 non-null   object \n",
      " 29  host_listings_count               3816 non-null   float64\n",
      " 30  host_total_listings_count         3816 non-null   float64\n",
      " 31  host_verifications                3818 non-null   object \n",
      " 32  host_has_profile_pic              3816 non-null   object \n",
      " 33  host_identity_verified            3816 non-null   object \n",
      " 34  street                            3818 non-null   object \n",
      " 35  neighbourhood                     3402 non-null   object \n",
      " 36  neighbourhood_cleansed            3818 non-null   object \n",
      " 37  neighbourhood_group_cleansed      3818 non-null   object \n",
      " 38  city                              3818 non-null   object \n",
      " 39  state                             3818 non-null   object \n",
      " 40  zipcode                           3811 non-null   object \n",
      " 41  market                            3818 non-null   object \n",
      " 42  smart_location                    3818 non-null   object \n",
      " 43  country_code                      3818 non-null   object \n",
      " 44  country                           3818 non-null   object \n",
      " 45  latitude                          3818 non-null   float64\n",
      " 46  longitude                         3818 non-null   float64\n",
      " 47  is_location_exact                 3818 non-null   object \n",
      " 48  property_type                     3817 non-null   object \n",
      " 49  room_type                         3818 non-null   object \n",
      " 50  accommodates                      3818 non-null   int64  \n",
      " 51  bathrooms                         3802 non-null   float64\n",
      " 52  bedrooms                          3812 non-null   float64\n",
      " 53  beds                              3817 non-null   float64\n",
      " 54  bed_type                          3818 non-null   object \n",
      " 55  amenities                         3818 non-null   object \n",
      " 56  square_feet                       97 non-null     float64\n",
      " 57  price                             3818 non-null   object \n",
      " 58  weekly_price                      2009 non-null   object \n",
      " 59  monthly_price                     1517 non-null   object \n",
      " 60  security_deposit                  1866 non-null   object \n",
      " 61  cleaning_fee                      2788 non-null   object \n",
      " 62  guests_included                   3818 non-null   int64  \n",
      " 63  extra_people                      3818 non-null   object \n",
      " 64  minimum_nights                    3818 non-null   int64  \n",
      " 65  maximum_nights                    3818 non-null   int64  \n",
      " 66  calendar_updated                  3818 non-null   object \n",
      " 67  has_availability                  3818 non-null   object \n",
      " 68  availability_30                   3818 non-null   int64  \n",
      " 69  availability_60                   3818 non-null   int64  \n",
      " 70  availability_90                   3818 non-null   int64  \n",
      " 71  availability_365                  3818 non-null   int64  \n",
      " 72  calendar_last_scraped             3818 non-null   object \n",
      " 73  number_of_reviews                 3818 non-null   int64  \n",
      " 74  first_review                      3191 non-null   object \n",
      " 75  last_review                       3191 non-null   object \n",
      " 76  review_scores_rating              3171 non-null   float64\n",
      " 77  review_scores_accuracy            3160 non-null   float64\n",
      " 78  review_scores_cleanliness         3165 non-null   float64\n",
      " 79  review_scores_checkin             3160 non-null   float64\n",
      " 80  review_scores_communication       3167 non-null   float64\n",
      " 81  review_scores_location            3163 non-null   float64\n",
      " 82  review_scores_value               3162 non-null   float64\n",
      " 83  requires_license                  3818 non-null   object \n",
      " 84  license                           0 non-null      float64\n",
      " 85  jurisdiction_names                3818 non-null   object \n",
      " 86  instant_bookable                  3818 non-null   object \n",
      " 87  cancellation_policy               3818 non-null   object \n",
      " 88  require_guest_profile_picture     3818 non-null   object \n",
      " 89  require_guest_phone_verification  3818 non-null   object \n",
      " 90  calculated_host_listings_count    3818 non-null   int64  \n",
      " 91  reviews_per_month                 3191 non-null   float64\n",
      "dtypes: float64(17), int64(13), object(62)\n",
      "memory usage: 2.7+ MB\n"
     ]
    }
   ],
   "source": [
    "df_listing.info()"
   ]
  },
  {
   "cell_type": "markdown",
   "id": "152ff83d",
   "metadata": {
    "papermill": {
     "duration": 0.008255,
     "end_time": "2023-01-18T18:57:35.195175",
     "exception": false,
     "start_time": "2023-01-18T18:57:35.186920",
     "status": "completed"
    },
    "tags": []
   },
   "source": [
    "**Same price Issue that was in Calendar df , we need to convert it float and remove $ or , characters from it**\n"
   ]
  },
  {
   "cell_type": "markdown",
   "id": "4759a57d",
   "metadata": {
    "papermill": {
     "duration": 0.008441,
     "end_time": "2023-01-18T18:57:35.212326",
     "exception": false,
     "start_time": "2023-01-18T18:57:35.203885",
     "status": "completed"
    },
    "tags": []
   },
   "source": [
    "# Prepare Data "
   ]
  },
  {
   "cell_type": "markdown",
   "id": "e417dbe3",
   "metadata": {
    "papermill": {
     "duration": 0.008122,
     "end_time": "2023-01-18T18:57:35.228963",
     "exception": false,
     "start_time": "2023-01-18T18:57:35.220841",
     "status": "completed"
    },
    "tags": []
   },
   "source": [
    "Handling df_calendar"
   ]
  },
  {
   "cell_type": "markdown",
   "id": "4231278c",
   "metadata": {
    "papermill": {
     "duration": 0.008054,
     "end_time": "2023-01-18T18:57:35.245662",
     "exception": false,
     "start_time": "2023-01-18T18:57:35.237608",
     "status": "completed"
    },
    "tags": []
   },
   "source": []
  },
  {
   "cell_type": "code",
   "execution_count": 9,
   "id": "0d767440",
   "metadata": {
    "execution": {
     "iopub.execute_input": "2023-01-18T18:57:35.265196Z",
     "iopub.status.busy": "2023-01-18T18:57:35.264756Z",
     "iopub.status.idle": "2023-01-18T18:57:37.666284Z",
     "shell.execute_reply": "2023-01-18T18:57:37.665265Z"
    },
    "papermill": {
     "duration": 2.414727,
     "end_time": "2023-01-18T18:57:37.668930",
     "exception": false,
     "start_time": "2023-01-18T18:57:35.254203",
     "status": "completed"
    },
    "tags": []
   },
   "outputs": [
    {
     "data": {
      "text/html": [
       "<div>\n",
       "<style scoped>\n",
       "    .dataframe tbody tr th:only-of-type {\n",
       "        vertical-align: middle;\n",
       "    }\n",
       "\n",
       "    .dataframe tbody tr th {\n",
       "        vertical-align: top;\n",
       "    }\n",
       "\n",
       "    .dataframe thead th {\n",
       "        text-align: right;\n",
       "    }\n",
       "</style>\n",
       "<table border=\"1\" class=\"dataframe\">\n",
       "  <thead>\n",
       "    <tr style=\"text-align: right;\">\n",
       "      <th></th>\n",
       "      <th>listing_id</th>\n",
       "      <th>date</th>\n",
       "      <th>available</th>\n",
       "      <th>price</th>\n",
       "      <th>month</th>\n",
       "      <th>year</th>\n",
       "      <th>Month_Year</th>\n",
       "    </tr>\n",
       "  </thead>\n",
       "  <tbody>\n",
       "    <tr>\n",
       "      <th>0</th>\n",
       "      <td>241032</td>\n",
       "      <td>2016-01-04</td>\n",
       "      <td>1</td>\n",
       "      <td>85.0</td>\n",
       "      <td>1</td>\n",
       "      <td>2016</td>\n",
       "      <td>2016-01</td>\n",
       "    </tr>\n",
       "    <tr>\n",
       "      <th>1</th>\n",
       "      <td>241032</td>\n",
       "      <td>2016-01-05</td>\n",
       "      <td>1</td>\n",
       "      <td>85.0</td>\n",
       "      <td>1</td>\n",
       "      <td>2016</td>\n",
       "      <td>2016-01</td>\n",
       "    </tr>\n",
       "    <tr>\n",
       "      <th>2</th>\n",
       "      <td>241032</td>\n",
       "      <td>2016-01-06</td>\n",
       "      <td>0</td>\n",
       "      <td>NaN</td>\n",
       "      <td>1</td>\n",
       "      <td>2016</td>\n",
       "      <td>2016-01</td>\n",
       "    </tr>\n",
       "    <tr>\n",
       "      <th>3</th>\n",
       "      <td>241032</td>\n",
       "      <td>2016-01-07</td>\n",
       "      <td>0</td>\n",
       "      <td>NaN</td>\n",
       "      <td>1</td>\n",
       "      <td>2016</td>\n",
       "      <td>2016-01</td>\n",
       "    </tr>\n",
       "    <tr>\n",
       "      <th>4</th>\n",
       "      <td>241032</td>\n",
       "      <td>2016-01-08</td>\n",
       "      <td>0</td>\n",
       "      <td>NaN</td>\n",
       "      <td>1</td>\n",
       "      <td>2016</td>\n",
       "      <td>2016-01</td>\n",
       "    </tr>\n",
       "    <tr>\n",
       "      <th>...</th>\n",
       "      <td>...</td>\n",
       "      <td>...</td>\n",
       "      <td>...</td>\n",
       "      <td>...</td>\n",
       "      <td>...</td>\n",
       "      <td>...</td>\n",
       "      <td>...</td>\n",
       "    </tr>\n",
       "    <tr>\n",
       "      <th>1393565</th>\n",
       "      <td>10208623</td>\n",
       "      <td>2016-12-29</td>\n",
       "      <td>0</td>\n",
       "      <td>NaN</td>\n",
       "      <td>12</td>\n",
       "      <td>2016</td>\n",
       "      <td>2016-12</td>\n",
       "    </tr>\n",
       "    <tr>\n",
       "      <th>1393566</th>\n",
       "      <td>10208623</td>\n",
       "      <td>2016-12-30</td>\n",
       "      <td>0</td>\n",
       "      <td>NaN</td>\n",
       "      <td>12</td>\n",
       "      <td>2016</td>\n",
       "      <td>2016-12</td>\n",
       "    </tr>\n",
       "    <tr>\n",
       "      <th>1393567</th>\n",
       "      <td>10208623</td>\n",
       "      <td>2016-12-31</td>\n",
       "      <td>0</td>\n",
       "      <td>NaN</td>\n",
       "      <td>12</td>\n",
       "      <td>2016</td>\n",
       "      <td>2016-12</td>\n",
       "    </tr>\n",
       "    <tr>\n",
       "      <th>1393568</th>\n",
       "      <td>10208623</td>\n",
       "      <td>2017-01-01</td>\n",
       "      <td>0</td>\n",
       "      <td>NaN</td>\n",
       "      <td>1</td>\n",
       "      <td>2017</td>\n",
       "      <td>2017-01</td>\n",
       "    </tr>\n",
       "    <tr>\n",
       "      <th>1393569</th>\n",
       "      <td>10208623</td>\n",
       "      <td>2017-01-02</td>\n",
       "      <td>0</td>\n",
       "      <td>NaN</td>\n",
       "      <td>1</td>\n",
       "      <td>2017</td>\n",
       "      <td>2017-01</td>\n",
       "    </tr>\n",
       "  </tbody>\n",
       "</table>\n",
       "<p>1393570 rows × 7 columns</p>\n",
       "</div>"
      ],
      "text/plain": [
       "         listing_id        date  available  price  month  year Month_Year\n",
       "0            241032  2016-01-04          1   85.0      1  2016    2016-01\n",
       "1            241032  2016-01-05          1   85.0      1  2016    2016-01\n",
       "2            241032  2016-01-06          0    NaN      1  2016    2016-01\n",
       "3            241032  2016-01-07          0    NaN      1  2016    2016-01\n",
       "4            241032  2016-01-08          0    NaN      1  2016    2016-01\n",
       "...             ...         ...        ...    ...    ...   ...        ...\n",
       "1393565    10208623  2016-12-29          0    NaN     12  2016    2016-12\n",
       "1393566    10208623  2016-12-30          0    NaN     12  2016    2016-12\n",
       "1393567    10208623  2016-12-31          0    NaN     12  2016    2016-12\n",
       "1393568    10208623  2017-01-01          0    NaN      1  2017    2017-01\n",
       "1393569    10208623  2017-01-02          0    NaN      1  2017    2017-01\n",
       "\n",
       "[1393570 rows x 7 columns]"
      ]
     },
     "execution_count": 9,
     "metadata": {},
     "output_type": "execute_result"
    }
   ],
   "source": [
    "# removing $ and , if existed and convert the price to integar \n",
    "\n",
    "\n",
    "df_calendar['price']=df_calendar['price'].map(lambda v: float(v[1:].replace(\",\",\"\")) if type(v) != float else v)\n",
    "df_calendar['available'].replace({'t':1,'f':0},inplace=True)\n",
    "df_calendar['month']=pd.DatetimeIndex(df_calendar['date']).month\n",
    "df_calendar['year']=pd.DatetimeIndex(df_calendar['date']).year\n",
    "df_calendar['Month_Year'] = pd.to_datetime(df_calendar['date']).dt.to_period('M')\n",
    "\n",
    "df_calendar\n",
    "\n",
    "\n"
   ]
  },
  {
   "cell_type": "markdown",
   "id": "a00dc560",
   "metadata": {
    "papermill": {
     "duration": 0.008349,
     "end_time": "2023-01-18T18:57:37.686649",
     "exception": false,
     "start_time": "2023-01-18T18:57:37.678300",
     "status": "completed"
    },
    "tags": []
   },
   "source": []
  },
  {
   "cell_type": "markdown",
   "id": "7b94203f",
   "metadata": {
    "papermill": {
     "duration": 0.008217,
     "end_time": "2023-01-18T18:57:37.703437",
     "exception": false,
     "start_time": "2023-01-18T18:57:37.695220",
     "status": "completed"
    },
    "tags": []
   },
   "source": [
    "**Handling df_listing**"
   ]
  },
  {
   "cell_type": "code",
   "execution_count": 10,
   "id": "82afdbec",
   "metadata": {
    "execution": {
     "iopub.execute_input": "2023-01-18T18:57:37.722291Z",
     "iopub.status.busy": "2023-01-18T18:57:37.721915Z",
     "iopub.status.idle": "2023-01-18T18:57:37.734303Z",
     "shell.execute_reply": "2023-01-18T18:57:37.733071Z"
    },
    "papermill": {
     "duration": 0.024735,
     "end_time": "2023-01-18T18:57:37.736589",
     "exception": false,
     "start_time": "2023-01-18T18:57:37.711854",
     "status": "completed"
    },
    "tags": []
   },
   "outputs": [],
   "source": [
    "df_listing['price']=df_listing['price'].map(lambda v: float(v[1:].replace(\",\",\"\")) if type(v) != float else v)"
   ]
  },
  {
   "cell_type": "markdown",
   "id": "15b9c96b",
   "metadata": {
    "papermill": {
     "duration": 0.008637,
     "end_time": "2023-01-18T18:57:37.754036",
     "exception": false,
     "start_time": "2023-01-18T18:57:37.745399",
     "status": "completed"
    },
    "tags": []
   },
   "source": [
    "# Data Modeling and insights"
   ]
  },
  {
   "cell_type": "markdown",
   "id": "2163cad5",
   "metadata": {
    "papermill": {
     "duration": 0.008236,
     "end_time": "2023-01-18T18:57:37.770876",
     "exception": false,
     "start_time": "2023-01-18T18:57:37.762640",
     "status": "completed"
    },
    "tags": []
   },
   "source": [
    "1) what is the busiest month in terms of availbility of listings ?"
   ]
  },
  {
   "cell_type": "code",
   "execution_count": 11,
   "id": "0270b5d2",
   "metadata": {
    "execution": {
     "iopub.execute_input": "2023-01-18T18:57:37.790301Z",
     "iopub.status.busy": "2023-01-18T18:57:37.789934Z",
     "iopub.status.idle": "2023-01-18T18:57:38.129996Z",
     "shell.execute_reply": "2023-01-18T18:57:38.128866Z"
    },
    "papermill": {
     "duration": 0.352773,
     "end_time": "2023-01-18T18:57:38.132434",
     "exception": false,
     "start_time": "2023-01-18T18:57:37.779661",
     "status": "completed"
    },
    "tags": []
   },
   "outputs": [
    {
     "data": {
      "text/html": [
       "<div>\n",
       "<style scoped>\n",
       "    .dataframe tbody tr th:only-of-type {\n",
       "        vertical-align: middle;\n",
       "    }\n",
       "\n",
       "    .dataframe tbody tr th {\n",
       "        vertical-align: top;\n",
       "    }\n",
       "\n",
       "    .dataframe thead th {\n",
       "        text-align: right;\n",
       "    }\n",
       "</style>\n",
       "<table border=\"1\" class=\"dataframe\">\n",
       "  <thead>\n",
       "    <tr style=\"text-align: right;\">\n",
       "      <th></th>\n",
       "      <th>Month_Year</th>\n",
       "      <th>avg_availability</th>\n",
       "    </tr>\n",
       "  </thead>\n",
       "  <tbody>\n",
       "    <tr>\n",
       "      <th>12</th>\n",
       "      <td>2017-01</td>\n",
       "      <td>0.746202</td>\n",
       "    </tr>\n",
       "    <tr>\n",
       "      <th>11</th>\n",
       "      <td>2016-12</td>\n",
       "      <td>0.735573</td>\n",
       "    </tr>\n",
       "    <tr>\n",
       "      <th>10</th>\n",
       "      <td>2016-11</td>\n",
       "      <td>0.713986</td>\n",
       "    </tr>\n",
       "    <tr>\n",
       "      <th>2</th>\n",
       "      <td>2016-03</td>\n",
       "      <td>0.709187</td>\n",
       "    </tr>\n",
       "    <tr>\n",
       "      <th>9</th>\n",
       "      <td>2016-10</td>\n",
       "      <td>0.696514</td>\n",
       "    </tr>\n",
       "    <tr>\n",
       "      <th>4</th>\n",
       "      <td>2016-05</td>\n",
       "      <td>0.675670</td>\n",
       "    </tr>\n",
       "    <tr>\n",
       "      <th>8</th>\n",
       "      <td>2016-09</td>\n",
       "      <td>0.674402</td>\n",
       "    </tr>\n",
       "    <tr>\n",
       "      <th>5</th>\n",
       "      <td>2016-06</td>\n",
       "      <td>0.674384</td>\n",
       "    </tr>\n",
       "    <tr>\n",
       "      <th>3</th>\n",
       "      <td>2016-04</td>\n",
       "      <td>0.663847</td>\n",
       "    </tr>\n",
       "    <tr>\n",
       "      <th>1</th>\n",
       "      <td>2016-02</td>\n",
       "      <td>0.662208</td>\n",
       "    </tr>\n",
       "    <tr>\n",
       "      <th>7</th>\n",
       "      <td>2016-08</td>\n",
       "      <td>0.645051</td>\n",
       "    </tr>\n",
       "    <tr>\n",
       "      <th>6</th>\n",
       "      <td>2016-07</td>\n",
       "      <td>0.627097</td>\n",
       "    </tr>\n",
       "    <tr>\n",
       "      <th>0</th>\n",
       "      <td>2016-01</td>\n",
       "      <td>0.554133</td>\n",
       "    </tr>\n",
       "  </tbody>\n",
       "</table>\n",
       "</div>"
      ],
      "text/plain": [
       "   Month_Year  avg_availability\n",
       "12    2017-01          0.746202\n",
       "11    2016-12          0.735573\n",
       "10    2016-11          0.713986\n",
       "2     2016-03          0.709187\n",
       "9     2016-10          0.696514\n",
       "4     2016-05          0.675670\n",
       "8     2016-09          0.674402\n",
       "5     2016-06          0.674384\n",
       "3     2016-04          0.663847\n",
       "1     2016-02          0.662208\n",
       "7     2016-08          0.645051\n",
       "6     2016-07          0.627097\n",
       "0     2016-01          0.554133"
      ]
     },
     "execution_count": 11,
     "metadata": {},
     "output_type": "execute_result"
    },
    {
     "data": {
      "image/png": "[encoded data removed]",
      "text/plain": [
       "<Figure size 1080x576 with 1 Axes>"
      ]
     },
     "metadata": {
      "needs_background": "light"
     },
     "output_type": "display_data"
    }
   ],
   "source": [
    "availibility=df_calendar.groupby('Month_Year')['available'].mean().reset_index().rename(columns={'available':'avg_availability'})\n",
    "\n",
    "x=availibility['Month_Year']\n",
    "y=availibility['avg_availability']\n",
    "\n",
    "#availibility.plot()\n",
    "plt.figure(figsize=(15,8))\n",
    "plt.title(\"Avg Availability per Month\")\n",
    "\n",
    "sns.barplot(data=availibility,x='Month_Year',y='avg_availability',color='b',palette=None)\n",
    "availibility.sort_values(by='avg_availability',ascending=False)"
   ]
  },
  {
   "cell_type": "markdown",
   "id": "db5374c5",
   "metadata": {
    "papermill": {
     "duration": 0.0089,
     "end_time": "2023-01-18T18:57:38.150677",
     "exception": false,
     "start_time": "2023-01-18T18:57:38.141777",
     "status": "completed"
    },
    "tags": []
   },
   "source": [
    "It Seems like the business was working well in that year specially in March, November, December and January. \n",
    "and this is totally making sense as most of the travellers usually go to seattle and europe in general near Christmas. at which you will enjou the weather and the ambience.\n",
    "Also it seems like poeple love to visit Seattle at Spring as we see, in March it's quite busy."
   ]
  },
  {
   "cell_type": "markdown",
   "id": "d94beade",
   "metadata": {
    "papermill": {
     "duration": 0.008646,
     "end_time": "2023-01-18T18:57:38.168293",
     "exception": false,
     "start_time": "2023-01-18T18:57:38.159647",
     "status": "completed"
    },
    "tags": []
   },
   "source": [
    "2) when is the highest averageprice of listings per night ?"
   ]
  },
  {
   "cell_type": "code",
   "execution_count": 12,
   "id": "558a1475",
   "metadata": {
    "execution": {
     "iopub.execute_input": "2023-01-18T18:57:38.188012Z",
     "iopub.status.busy": "2023-01-18T18:57:38.187615Z",
     "iopub.status.idle": "2023-01-18T18:57:38.475471Z",
     "shell.execute_reply": "2023-01-18T18:57:38.474457Z"
    },
    "papermill": {
     "duration": 0.300389,
     "end_time": "2023-01-18T18:57:38.477757",
     "exception": false,
     "start_time": "2023-01-18T18:57:38.177368",
     "status": "completed"
    },
    "tags": []
   },
   "outputs": [
    {
     "data": {
      "text/html": [
       "<div>\n",
       "<style scoped>\n",
       "    .dataframe tbody tr th:only-of-type {\n",
       "        vertical-align: middle;\n",
       "    }\n",
       "\n",
       "    .dataframe tbody tr th {\n",
       "        vertical-align: top;\n",
       "    }\n",
       "\n",
       "    .dataframe thead th {\n",
       "        text-align: right;\n",
       "    }\n",
       "</style>\n",
       "<table border=\"1\" class=\"dataframe\">\n",
       "  <thead>\n",
       "    <tr style=\"text-align: right;\">\n",
       "      <th></th>\n",
       "      <th>Month_Year</th>\n",
       "      <th>avg_price</th>\n",
       "    </tr>\n",
       "  </thead>\n",
       "  <tbody>\n",
       "    <tr>\n",
       "      <th>6</th>\n",
       "      <td>2016-07</td>\n",
       "      <td>152.094150</td>\n",
       "    </tr>\n",
       "    <tr>\n",
       "      <th>7</th>\n",
       "      <td>2016-08</td>\n",
       "      <td>150.656594</td>\n",
       "    </tr>\n",
       "    <tr>\n",
       "      <th>5</th>\n",
       "      <td>2016-06</td>\n",
       "      <td>147.473137</td>\n",
       "    </tr>\n",
       "    <tr>\n",
       "      <th>8</th>\n",
       "      <td>2016-09</td>\n",
       "      <td>143.255949</td>\n",
       "    </tr>\n",
       "    <tr>\n",
       "      <th>4</th>\n",
       "      <td>2016-05</td>\n",
       "      <td>139.538183</td>\n",
       "    </tr>\n",
       "    <tr>\n",
       "      <th>11</th>\n",
       "      <td>2016-12</td>\n",
       "      <td>137.251835</td>\n",
       "    </tr>\n",
       "    <tr>\n",
       "      <th>9</th>\n",
       "      <td>2016-10</td>\n",
       "      <td>137.031939</td>\n",
       "    </tr>\n",
       "    <tr>\n",
       "      <th>12</th>\n",
       "      <td>2017-01</td>\n",
       "      <td>136.882590</td>\n",
       "    </tr>\n",
       "    <tr>\n",
       "      <th>10</th>\n",
       "      <td>2016-11</td>\n",
       "      <td>135.688738</td>\n",
       "    </tr>\n",
       "    <tr>\n",
       "      <th>3</th>\n",
       "      <td>2016-04</td>\n",
       "      <td>135.097005</td>\n",
       "    </tr>\n",
       "    <tr>\n",
       "      <th>2</th>\n",
       "      <td>2016-03</td>\n",
       "      <td>128.644488</td>\n",
       "    </tr>\n",
       "    <tr>\n",
       "      <th>1</th>\n",
       "      <td>2016-02</td>\n",
       "      <td>124.293927</td>\n",
       "    </tr>\n",
       "    <tr>\n",
       "      <th>0</th>\n",
       "      <td>2016-01</td>\n",
       "      <td>121.568409</td>\n",
       "    </tr>\n",
       "  </tbody>\n",
       "</table>\n",
       "</div>"
      ],
      "text/plain": [
       "   Month_Year   avg_price\n",
       "6     2016-07  152.094150\n",
       "7     2016-08  150.656594\n",
       "5     2016-06  147.473137\n",
       "8     2016-09  143.255949\n",
       "4     2016-05  139.538183\n",
       "11    2016-12  137.251835\n",
       "9     2016-10  137.031939\n",
       "12    2017-01  136.882590\n",
       "10    2016-11  135.688738\n",
       "3     2016-04  135.097005\n",
       "2     2016-03  128.644488\n",
       "1     2016-02  124.293927\n",
       "0     2016-01  121.568409"
      ]
     },
     "execution_count": 12,
     "metadata": {},
     "output_type": "execute_result"
    },
    {
     "data": {
      "image/png": "[encoded data removed]",
      "text/plain": [
       "<Figure size 1080x576 with 1 Axes>"
      ]
     },
     "metadata": {
      "needs_background": "light"
     },
     "output_type": "display_data"
    }
   ],
   "source": [
    "Avg_Prices=df_calendar.groupby('Month_Year')['price'].mean().reset_index().rename(columns={'price':'avg_price'})\n",
    "\n",
    "x=Avg_Prices['Month_Year']\n",
    "y=Avg_Prices['avg_price']\n",
    "\n",
    "#availibility.plot()\n",
    "plt.figure(figsize=(15,8))\n",
    "plt.title(\"Avg Price per Month\")\n",
    "sns.barplot(data=Avg_Prices,x='Month_Year',y='avg_price',color='b',palette=None)\n",
    "Avg_Prices.sort_values(by='avg_price',ascending=False)"
   ]
  },
  {
   "cell_type": "markdown",
   "id": "13cfff69",
   "metadata": {
    "papermill": {
     "duration": 0.009419,
     "end_time": "2023-01-18T18:57:38.496978",
     "exception": false,
     "start_time": "2023-01-18T18:57:38.487559",
     "status": "completed"
    },
    "tags": []
   },
   "source": [
    "As seen , the Highest Prices are in June, July and August, Summer time !. \n",
    "and this is matching what we saw in the availability chart as the lowest availability is at these months in particular."
   ]
  },
  {
   "cell_type": "markdown",
   "id": "27a9f4bb",
   "metadata": {
    "papermill": {
     "duration": 0.009356,
     "end_time": "2023-01-18T18:57:38.515888",
     "exception": false,
     "start_time": "2023-01-18T18:57:38.506532",
     "status": "completed"
    },
    "tags": []
   },
   "source": [
    "3) Where are the most/less expensive listings ? at which neighbourhoods in Seattle"
   ]
  },
  {
   "cell_type": "code",
   "execution_count": 13,
   "id": "d106da05",
   "metadata": {
    "execution": {
     "iopub.execute_input": "2023-01-18T18:57:38.536299Z",
     "iopub.status.busy": "2023-01-18T18:57:38.535939Z",
     "iopub.status.idle": "2023-01-18T18:57:38.735157Z",
     "shell.execute_reply": "2023-01-18T18:57:38.734028Z"
    },
    "papermill": {
     "duration": 0.212498,
     "end_time": "2023-01-18T18:57:38.737903",
     "exception": false,
     "start_time": "2023-01-18T18:57:38.525405",
     "status": "completed"
    },
    "tags": []
   },
   "outputs": [
    {
     "data": {
      "text/html": [
       "<div>\n",
       "<style scoped>\n",
       "    .dataframe tbody tr th:only-of-type {\n",
       "        vertical-align: middle;\n",
       "    }\n",
       "\n",
       "    .dataframe tbody tr th {\n",
       "        vertical-align: top;\n",
       "    }\n",
       "\n",
       "    .dataframe thead th {\n",
       "        text-align: right;\n",
       "    }\n",
       "</style>\n",
       "<table border=\"1\" class=\"dataframe\">\n",
       "  <thead>\n",
       "    <tr style=\"text-align: right;\">\n",
       "      <th></th>\n",
       "      <th>neighbourhood</th>\n",
       "      <th>avg_price</th>\n",
       "    </tr>\n",
       "  </thead>\n",
       "  <tbody>\n",
       "    <tr>\n",
       "      <th>0</th>\n",
       "      <td>Fairmount Park</td>\n",
       "      <td>370.000000</td>\n",
       "    </tr>\n",
       "    <tr>\n",
       "      <th>1</th>\n",
       "      <td>Industrial District</td>\n",
       "      <td>245.000000</td>\n",
       "    </tr>\n",
       "    <tr>\n",
       "      <th>2</th>\n",
       "      <td>Portage Bay</td>\n",
       "      <td>241.428571</td>\n",
       "    </tr>\n",
       "    <tr>\n",
       "      <th>3</th>\n",
       "      <td>Westlake</td>\n",
       "      <td>197.000000</td>\n",
       "    </tr>\n",
       "    <tr>\n",
       "      <th>4</th>\n",
       "      <td>Alki</td>\n",
       "      <td>196.652174</td>\n",
       "    </tr>\n",
       "  </tbody>\n",
       "</table>\n",
       "</div>"
      ],
      "text/plain": [
       "         neighbourhood   avg_price\n",
       "0       Fairmount Park  370.000000\n",
       "1  Industrial District  245.000000\n",
       "2          Portage Bay  241.428571\n",
       "3             Westlake  197.000000\n",
       "4                 Alki  196.652174"
      ]
     },
     "execution_count": 13,
     "metadata": {},
     "output_type": "execute_result"
    },
    {
     "data": {
      "image/png": "[encoded data removed]",
      "text/plain": [
       "<Figure size 1080x576 with 1 Axes>"
      ]
     },
     "metadata": {
      "needs_background": "light"
     },
     "output_type": "display_data"
    }
   ],
   "source": [
    "Top_neighbour_per_price=df_listing.groupby('neighbourhood')['price'].mean().sort_values(ascending=False).reset_index().rename(columns={'price':'avg_price'})\n",
    "\n",
    "x=Top_neighbour_per_price['neighbourhood'].head(5)\n",
    "y=Top_neighbour_per_price['avg_price'].head(5)\n",
    "\n",
    "plt.figure(figsize=(15,8))\n",
    "plt.title(\"Top neighbourhood in terms of Price/night\")\n",
    "sns.barplot(data=Top_neighbour_per_price,x=x,y=y,color='b',palette=None)\n",
    "Top_neighbour_per_price.head(5)"
   ]
  },
  {
   "cell_type": "markdown",
   "id": "769f1a70",
   "metadata": {
    "papermill": {
     "duration": 0.009959,
     "end_time": "2023-01-18T18:57:38.758403",
     "exception": false,
     "start_time": "2023-01-18T18:57:38.748444",
     "status": "completed"
    },
    "tags": []
   },
   "source": [
    "So, the most expensive neighbourhood in seattle is Fairmount Park , this is due to its luxury,location and property amenties"
   ]
  },
  {
   "cell_type": "markdown",
   "id": "657e7634",
   "metadata": {
    "papermill": {
     "duration": 0.010038,
     "end_time": "2023-01-18T18:57:38.778621",
     "exception": false,
     "start_time": "2023-01-18T18:57:38.768583",
     "status": "completed"
    },
    "tags": []
   },
   "source": [
    "let's check the cheapiest neighbourhood prices"
   ]
  },
  {
   "cell_type": "code",
   "execution_count": 14,
   "id": "ae4fc8f8",
   "metadata": {
    "execution": {
     "iopub.execute_input": "2023-01-18T18:57:38.801593Z",
     "iopub.status.busy": "2023-01-18T18:57:38.800550Z",
     "iopub.status.idle": "2023-01-18T18:57:39.000964Z",
     "shell.execute_reply": "2023-01-18T18:57:39.000099Z"
    },
    "papermill": {
     "duration": 0.214341,
     "end_time": "2023-01-18T18:57:39.003247",
     "exception": false,
     "start_time": "2023-01-18T18:57:38.788906",
     "status": "completed"
    },
    "tags": []
   },
   "outputs": [
    {
     "data": {
      "text/html": [
       "<div>\n",
       "<style scoped>\n",
       "    .dataframe tbody tr th:only-of-type {\n",
       "        vertical-align: middle;\n",
       "    }\n",
       "\n",
       "    .dataframe tbody tr th {\n",
       "        vertical-align: top;\n",
       "    }\n",
       "\n",
       "    .dataframe thead th {\n",
       "        text-align: right;\n",
       "    }\n",
       "</style>\n",
       "<table border=\"1\" class=\"dataframe\">\n",
       "  <thead>\n",
       "    <tr style=\"text-align: right;\">\n",
       "      <th></th>\n",
       "      <th>neighbourhood</th>\n",
       "      <th>avg_price</th>\n",
       "    </tr>\n",
       "  </thead>\n",
       "  <tbody>\n",
       "    <tr>\n",
       "      <th>0</th>\n",
       "      <td>Roxhill</td>\n",
       "      <td>60.000000</td>\n",
       "    </tr>\n",
       "    <tr>\n",
       "      <th>1</th>\n",
       "      <td>Olympic Hills</td>\n",
       "      <td>63.666667</td>\n",
       "    </tr>\n",
       "    <tr>\n",
       "      <th>2</th>\n",
       "      <td>Dunlap</td>\n",
       "      <td>75.461538</td>\n",
       "    </tr>\n",
       "    <tr>\n",
       "      <th>3</th>\n",
       "      <td>Rainier Beach</td>\n",
       "      <td>76.722222</td>\n",
       "    </tr>\n",
       "    <tr>\n",
       "      <th>4</th>\n",
       "      <td>Georgetown</td>\n",
       "      <td>77.000000</td>\n",
       "    </tr>\n",
       "  </tbody>\n",
       "</table>\n",
       "</div>"
      ],
      "text/plain": [
       "   neighbourhood  avg_price\n",
       "0        Roxhill  60.000000\n",
       "1  Olympic Hills  63.666667\n",
       "2         Dunlap  75.461538\n",
       "3  Rainier Beach  76.722222\n",
       "4     Georgetown  77.000000"
      ]
     },
     "execution_count": 14,
     "metadata": {},
     "output_type": "execute_result"
    },
    {
     "data": {
      "image/png": "[encoded data removed]",
      "text/plain": [
       "<Figure size 1080x576 with 1 Axes>"
      ]
     },
     "metadata": {
      "needs_background": "light"
     },
     "output_type": "display_data"
    }
   ],
   "source": [
    "bottom_neighbour_per_price=df_listing.groupby('neighbourhood')['price'].mean().sort_values(ascending=True).reset_index().rename(columns={'price':'avg_price'})\n",
    "\n",
    "x=bottom_neighbour_per_price['neighbourhood'].head(5)\n",
    "y=bottom_neighbour_per_price['avg_price'].head(5)\n",
    "\n",
    "plt.figure(figsize=(15,8))\n",
    "plt.title(\"Bottom neighbourhood in terms of Price/night\")\n",
    "sns.barplot(data=bottom_neighbour_per_price,x=x,y=y,color='b',palette=None)\n",
    "bottom_neighbour_per_price.head(5)"
   ]
  },
  {
   "cell_type": "markdown",
   "id": "651b05a1",
   "metadata": {
    "papermill": {
     "duration": 0.01047,
     "end_time": "2023-01-18T18:57:39.024713",
     "exception": false,
     "start_time": "2023-01-18T18:57:39.014243",
     "status": "completed"
    },
    "tags": []
   },
   "source": [
    "4) Who are the top host names and what are the types of listings they offer ?"
   ]
  },
  {
   "cell_type": "code",
   "execution_count": 15,
   "id": "3f99bb20",
   "metadata": {
    "execution": {
     "iopub.execute_input": "2023-01-18T18:57:39.048467Z",
     "iopub.status.busy": "2023-01-18T18:57:39.047462Z",
     "iopub.status.idle": "2023-01-18T18:57:39.093487Z",
     "shell.execute_reply": "2023-01-18T18:57:39.092652Z"
    },
    "papermill": {
     "duration": 0.059944,
     "end_time": "2023-01-18T18:57:39.095543",
     "exception": false,
     "start_time": "2023-01-18T18:57:39.035599",
     "status": "completed"
    },
    "tags": []
   },
   "outputs": [
    {
     "data": {
      "text/html": [
       "<div>\n",
       "<style scoped>\n",
       "    .dataframe tbody tr th:only-of-type {\n",
       "        vertical-align: middle;\n",
       "    }\n",
       "\n",
       "    .dataframe tbody tr th {\n",
       "        vertical-align: top;\n",
       "    }\n",
       "\n",
       "    .dataframe thead th {\n",
       "        text-align: right;\n",
       "    }\n",
       "</style>\n",
       "<table border=\"1\" class=\"dataframe\">\n",
       "  <thead>\n",
       "    <tr style=\"text-align: right;\">\n",
       "      <th></th>\n",
       "      <th>Total_listings</th>\n",
       "      <th>Entire Room</th>\n",
       "      <th>Shared Room</th>\n",
       "      <th>Private Room</th>\n",
       "    </tr>\n",
       "    <tr>\n",
       "      <th>host_name</th>\n",
       "      <th></th>\n",
       "      <th></th>\n",
       "      <th></th>\n",
       "      <th></th>\n",
       "    </tr>\n",
       "  </thead>\n",
       "  <tbody>\n",
       "    <tr>\n",
       "      <th>Andrew</th>\n",
       "      <td>56</td>\n",
       "      <td>10.0</td>\n",
       "      <td>36.0</td>\n",
       "      <td>10.0</td>\n",
       "    </tr>\n",
       "    <tr>\n",
       "      <th>Jordan</th>\n",
       "      <td>48</td>\n",
       "      <td>46.0</td>\n",
       "      <td>0.0</td>\n",
       "      <td>2.0</td>\n",
       "    </tr>\n",
       "    <tr>\n",
       "      <th>Daniela</th>\n",
       "      <td>47</td>\n",
       "      <td>47.0</td>\n",
       "      <td>0.0</td>\n",
       "      <td>0.0</td>\n",
       "    </tr>\n",
       "    <tr>\n",
       "      <th>Michael</th>\n",
       "      <td>46</td>\n",
       "      <td>17.0</td>\n",
       "      <td>14.0</td>\n",
       "      <td>15.0</td>\n",
       "    </tr>\n",
       "    <tr>\n",
       "      <th>Melissa</th>\n",
       "      <td>45</td>\n",
       "      <td>35.0</td>\n",
       "      <td>0.0</td>\n",
       "      <td>10.0</td>\n",
       "    </tr>\n",
       "  </tbody>\n",
       "</table>\n",
       "</div>"
      ],
      "text/plain": [
       "           Total_listings  Entire Room  Shared Room  Private Room\n",
       "host_name                                                        \n",
       "Andrew                 56         10.0         36.0          10.0\n",
       "Jordan                 48         46.0          0.0           2.0\n",
       "Daniela                47         47.0          0.0           0.0\n",
       "Michael                46         17.0         14.0          15.0\n",
       "Melissa                45         35.0          0.0          10.0"
      ]
     },
     "execution_count": 15,
     "metadata": {},
     "output_type": "execute_result"
    }
   ],
   "source": [
    "\n",
    "df_listing.room_type.value_counts()\n",
    "\n",
    "\n",
    "host_stats_total=df_listing.groupby('host_name')['id'].count().sort_values(ascending=False).reset_index().rename(columns={'id': 'total'})\n",
    "host_stats_entire=df_listing[df_listing['room_type']=='Entire home/apt'].groupby('host_name')['id'].count().sort_values(ascending=False).reset_index().rename(columns={'id':'entire'})\n",
    "host_stats_private=df_listing[df_listing['room_type']=='Private room'].groupby('host_name')['id'].count().sort_values(ascending=False).reset_index().rename(columns={'id': 'private'})\n",
    "host_stats_shared=df_listing[df_listing['room_type']=='Shared room'].groupby('host_name')['id'].count().sort_values(ascending=False).reset_index().rename(columns={'id': 'shared'})\n",
    "\n",
    "dfs=[host_stats_total, host_stats_entire,host_stats_shared,host_stats_private]\n",
    "dfs=[df.set_index('host_name') for df in dfs]\n",
    "\n",
    "top_5_hosts=dfs[0].join(dfs[1:]).fillna(0).head(5) \n",
    "top_5_hosts.rename(columns={'total':'Total_listings','entire': 'Entire Room','shared':'Shared Room','private':'Private Room'},inplace=True)\n",
    "top_5_hosts"
   ]
  },
  {
   "cell_type": "markdown",
   "id": "aa149b88",
   "metadata": {
    "papermill": {
     "duration": 0.010864,
     "end_time": "2023-01-18T18:57:39.117914",
     "exception": false,
     "start_time": "2023-01-18T18:57:39.107050",
     "status": "completed"
    },
    "tags": []
   },
   "source": [
    "Now it's business, Hosts are using airbnb to build a business that seems to work well all over the year. \n",
    "so Andrew has 56 listings ready for booking and he has various type of properties. "
   ]
  },
  {
   "cell_type": "markdown",
   "id": "1f2ba9f4",
   "metadata": {
    "papermill": {
     "duration": 0.010766,
     "end_time": "2023-01-18T18:57:39.139728",
     "exception": false,
     "start_time": "2023-01-18T18:57:39.128962",
     "status": "completed"
    },
    "tags": []
   },
   "source": [
    "# Conclusion"
   ]
  },
  {
   "cell_type": "markdown",
   "id": "1d22d080",
   "metadata": {
    "papermill": {
     "duration": 0.010749,
     "end_time": "2023-01-18T18:57:39.161514",
     "exception": false,
     "start_time": "2023-01-18T18:57:39.150765",
     "status": "completed"
    },
    "tags": []
   },
   "source": [
    "The business is good all over the year but it's at the peak in March,November,December and January.However, the most expensive time to book is in June,July and August which accordingly accompanied by low available listings, this is to keep profit constant as much as hosts can. \n",
    "Also airbnb allowed people to build their business with help of airbnb platform, as we saw hosts with more than 50 listings in Seattle.\n",
    "\n",
    "Last thing, if you want to get listing and enjoy luxurious visit, go to fairmount park neighbourhood, costy but worth it!. if you are not interested and you want the cheapest prices , go to roxhill or olympic hills but with less amenties properties."
   ]
  },
  {
   "cell_type": "code",
   "execution_count": null,
   "id": "43a2c8e8",
   "metadata": {
    "papermill": {
     "duration": 0.010618,
     "end_time": "2023-01-18T18:57:39.183000",
     "exception": false,
     "start_time": "2023-01-18T18:57:39.172382",
     "status": "completed"
    },
    "tags": []
   },
   "outputs": [],
   "source": []
  }
 ],
 "metadata": {
  "kernelspec": {
   "display_name": "Python 3",
   "language": "python",
   "name": "python3"
  },
  "language_info": {
   "codemirror_mode": {
    "name": "ipython",
    "version": 3
   },
   "file_extension": ".py",
   "mimetype": "text/x-python",
   "name": "python",
   "nbconvert_exporter": "python",
   "pygments_lexer": "ipython3",
   "version": "3.7.12"
  },
  "papermill": {
   "default_parameters": {},
   "duration": 18.077994,
   "end_time": "2023-01-18T18:57:39.915166",
   "environment_variables": {},
   "exception": null,
   "input_path": "__notebook__.ipynb",
   "output_path": "__notebook__.ipynb",
   "parameters": {},
   "start_time": "2023-01-18T18:57:21.837172",
   "version": "2.3.4"
  }
 },
 "nbformat": 4,
 "nbformat_minor": 5
}
